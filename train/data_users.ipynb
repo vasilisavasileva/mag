{
 "cells": [
  {
   "cell_type": "code",
   "execution_count": 1,
   "metadata": {},
   "outputs": [
    {
     "name": "stderr",
     "output_type": "stream",
     "text": [
      "/home/v_larkin/.pyenv/versions/3.12.2/envs/vvv/lib/python3.12/site-packages/tqdm/auto.py:21: TqdmWarning: IProgress not found. Please update jupyter and ipywidgets. See https://ipywidgets.readthedocs.io/en/stable/user_install.html\n",
      "  from .autonotebook import tqdm as notebook_tqdm\n"
     ]
    }
   ],
   "source": [
    "import datasets\n",
    "import polars as pl\n",
    "import pandas as pd\n",
    "import numpy as np\n",
    "\n",
    "from concurrent.futures import ProcessPoolExecutor, as_completed\n",
    "\n",
    "from tqdm import tqdm\n",
    "from IPython.display import display\n",
    "\n",
    "tqdm.pandas()\n",
    "\n",
    "SEED = 69\n",
    "\n",
    "np.random.seed(SEED)"
   ]
  },
  {
   "cell_type": "code",
   "execution_count": 2,
   "metadata": {},
   "outputs": [],
   "source": [
    "train = pl.read_parquet(\"hh_recsys_train_hh.pq\").to_pandas()\n",
    "test = pl.read_parquet(\"hh_recsys_test_hh.pq\").to_pandas()"
   ]
  },
  {
   "cell_type": "code",
   "execution_count": 3,
   "metadata": {},
   "outputs": [
    {
     "data": {
      "text/html": [
       "<div>\n",
       "<style scoped>\n",
       "    .dataframe tbody tr th:only-of-type {\n",
       "        vertical-align: middle;\n",
       "    }\n",
       "\n",
       "    .dataframe tbody tr th {\n",
       "        vertical-align: top;\n",
       "    }\n",
       "\n",
       "    .dataframe thead th {\n",
       "        text-align: right;\n",
       "    }\n",
       "</style>\n",
       "<table border=\"1\" class=\"dataframe\">\n",
       "  <thead>\n",
       "    <tr style=\"text-align: right;\">\n",
       "      <th></th>\n",
       "      <th>user_id</th>\n",
       "      <th>session_id</th>\n",
       "      <th>vacancy_id</th>\n",
       "      <th>action_type</th>\n",
       "      <th>action_dt</th>\n",
       "    </tr>\n",
       "  </thead>\n",
       "  <tbody>\n",
       "    <tr>\n",
       "      <th>0</th>\n",
       "      <td>u_332060</td>\n",
       "      <td>s_28301374</td>\n",
       "      <td>[v_2571684, v_488179, v_2389179, v_1393783, v_...</td>\n",
       "      <td>[2, 2, 2, 2, 2, 2, 1, 1, 2, 1, 2, 1, 2, 2, 2, ...</td>\n",
       "      <td>[2023-11-01T00:40:58.105000000, 2023-11-01T00:...</td>\n",
       "    </tr>\n",
       "    <tr>\n",
       "      <th>1</th>\n",
       "      <td>u_1057881</td>\n",
       "      <td>s_33868982</td>\n",
       "      <td>[v_665861]</td>\n",
       "      <td>[2]</td>\n",
       "      <td>[2023-11-01T00:23:51.452000000]</td>\n",
       "    </tr>\n",
       "    <tr>\n",
       "      <th>2</th>\n",
       "      <td>u_1036784</td>\n",
       "      <td>s_32474802</td>\n",
       "      <td>[v_2594840]</td>\n",
       "      <td>[2]</td>\n",
       "      <td>[2023-11-01T00:52:34.023000000]</td>\n",
       "    </tr>\n",
       "    <tr>\n",
       "      <th>3</th>\n",
       "      <td>u_786220</td>\n",
       "      <td>s_14060785</td>\n",
       "      <td>[v_1473781, v_1622905, v_1621959, v_2289180, v...</td>\n",
       "      <td>[1, 2, 2, 2, 2, 2, 2, 2, 2, 2, 2, 3, 2, 3, 2, ...</td>\n",
       "      <td>[2023-11-01T00:58:20.793000000, 2023-11-01T01:...</td>\n",
       "    </tr>\n",
       "    <tr>\n",
       "      <th>4</th>\n",
       "      <td>u_639152</td>\n",
       "      <td>s_23205986</td>\n",
       "      <td>[v_695738, v_22433, v_1590524, v_502496, v_200...</td>\n",
       "      <td>[2, 1, 2, 2, 2, 2, 2, 2, 2, 2, 2, 2, 1, 1, 2, ...</td>\n",
       "      <td>[2023-11-01T01:14:20.828000000, 2023-11-01T00:...</td>\n",
       "    </tr>\n",
       "    <tr>\n",
       "      <th>...</th>\n",
       "      <td>...</td>\n",
       "      <td>...</td>\n",
       "      <td>...</td>\n",
       "      <td>...</td>\n",
       "      <td>...</td>\n",
       "    </tr>\n",
       "    <tr>\n",
       "      <th>3463059</th>\n",
       "      <td>u_202578</td>\n",
       "      <td>s_8306993</td>\n",
       "      <td>[v_1499243]</td>\n",
       "      <td>[2]</td>\n",
       "      <td>[2023-11-13T21:01:41.813000000]</td>\n",
       "    </tr>\n",
       "    <tr>\n",
       "      <th>3463060</th>\n",
       "      <td>u_895531</td>\n",
       "      <td>s_7293998</td>\n",
       "      <td>[v_2041381]</td>\n",
       "      <td>[2]</td>\n",
       "      <td>[2023-11-14T17:51:22.169000000]</td>\n",
       "    </tr>\n",
       "    <tr>\n",
       "      <th>3463061</th>\n",
       "      <td>u_317562</td>\n",
       "      <td>s_9866576</td>\n",
       "      <td>[v_503192]</td>\n",
       "      <td>[2]</td>\n",
       "      <td>[2023-11-14T20:03:54.988000000]</td>\n",
       "    </tr>\n",
       "    <tr>\n",
       "      <th>3463062</th>\n",
       "      <td>u_225581</td>\n",
       "      <td>s_19724962</td>\n",
       "      <td>[v_2526106]</td>\n",
       "      <td>[2]</td>\n",
       "      <td>[2023-11-14T20:52:51.985000000]</td>\n",
       "    </tr>\n",
       "    <tr>\n",
       "      <th>3463063</th>\n",
       "      <td>u_1127158</td>\n",
       "      <td>s_9245205</td>\n",
       "      <td>[v_868748]</td>\n",
       "      <td>[2]</td>\n",
       "      <td>[2023-11-14T22:29:12.833000000]</td>\n",
       "    </tr>\n",
       "  </tbody>\n",
       "</table>\n",
       "<p>3463064 rows × 5 columns</p>\n",
       "</div>"
      ],
      "text/plain": [
       "           user_id  session_id  \\\n",
       "0         u_332060  s_28301374   \n",
       "1        u_1057881  s_33868982   \n",
       "2        u_1036784  s_32474802   \n",
       "3         u_786220  s_14060785   \n",
       "4         u_639152  s_23205986   \n",
       "...            ...         ...   \n",
       "3463059   u_202578   s_8306993   \n",
       "3463060   u_895531   s_7293998   \n",
       "3463061   u_317562   s_9866576   \n",
       "3463062   u_225581  s_19724962   \n",
       "3463063  u_1127158   s_9245205   \n",
       "\n",
       "                                                vacancy_id  \\\n",
       "0        [v_2571684, v_488179, v_2389179, v_1393783, v_...   \n",
       "1                                               [v_665861]   \n",
       "2                                              [v_2594840]   \n",
       "3        [v_1473781, v_1622905, v_1621959, v_2289180, v...   \n",
       "4        [v_695738, v_22433, v_1590524, v_502496, v_200...   \n",
       "...                                                    ...   \n",
       "3463059                                        [v_1499243]   \n",
       "3463060                                        [v_2041381]   \n",
       "3463061                                         [v_503192]   \n",
       "3463062                                        [v_2526106]   \n",
       "3463063                                         [v_868748]   \n",
       "\n",
       "                                               action_type  \\\n",
       "0        [2, 2, 2, 2, 2, 2, 1, 1, 2, 1, 2, 1, 2, 2, 2, ...   \n",
       "1                                                      [2]   \n",
       "2                                                      [2]   \n",
       "3        [1, 2, 2, 2, 2, 2, 2, 2, 2, 2, 2, 3, 2, 3, 2, ...   \n",
       "4        [2, 1, 2, 2, 2, 2, 2, 2, 2, 2, 2, 2, 1, 1, 2, ...   \n",
       "...                                                    ...   \n",
       "3463059                                                [2]   \n",
       "3463060                                                [2]   \n",
       "3463061                                                [2]   \n",
       "3463062                                                [2]   \n",
       "3463063                                                [2]   \n",
       "\n",
       "                                                 action_dt  \n",
       "0        [2023-11-01T00:40:58.105000000, 2023-11-01T00:...  \n",
       "1                          [2023-11-01T00:23:51.452000000]  \n",
       "2                          [2023-11-01T00:52:34.023000000]  \n",
       "3        [2023-11-01T00:58:20.793000000, 2023-11-01T01:...  \n",
       "4        [2023-11-01T01:14:20.828000000, 2023-11-01T00:...  \n",
       "...                                                    ...  \n",
       "3463059                    [2023-11-13T21:01:41.813000000]  \n",
       "3463060                    [2023-11-14T17:51:22.169000000]  \n",
       "3463061                    [2023-11-14T20:03:54.988000000]  \n",
       "3463062                    [2023-11-14T20:52:51.985000000]  \n",
       "3463063                    [2023-11-14T22:29:12.833000000]  \n",
       "\n",
       "[3463064 rows x 5 columns]"
      ]
     },
     "execution_count": 3,
     "metadata": {},
     "output_type": "execute_result"
    }
   ],
   "source": [
    "train"
   ]
  },
  {
   "cell_type": "code",
   "execution_count": 4,
   "metadata": {},
   "outputs": [
    {
     "data": {
      "text/html": [
       "<div>\n",
       "<style scoped>\n",
       "    .dataframe tbody tr th:only-of-type {\n",
       "        vertical-align: middle;\n",
       "    }\n",
       "\n",
       "    .dataframe tbody tr th {\n",
       "        vertical-align: top;\n",
       "    }\n",
       "\n",
       "    .dataframe thead th {\n",
       "        text-align: right;\n",
       "    }\n",
       "</style>\n",
       "<table border=\"1\" class=\"dataframe\">\n",
       "  <thead>\n",
       "    <tr style=\"text-align: right;\">\n",
       "      <th></th>\n",
       "      <th>user_id</th>\n",
       "      <th>session_id</th>\n",
       "      <th>vacancy_id</th>\n",
       "      <th>action_type</th>\n",
       "      <th>action_dt</th>\n",
       "    </tr>\n",
       "  </thead>\n",
       "  <tbody>\n",
       "    <tr>\n",
       "      <th>0</th>\n",
       "      <td>u_482520</td>\n",
       "      <td>s_25018731</td>\n",
       "      <td>[v_2597196, v_1223061, v_1223061]</td>\n",
       "      <td>[2, 2, 1]</td>\n",
       "      <td>[2023-11-19T12:03:13.089000000, 2023-11-19T12:...</td>\n",
       "    </tr>\n",
       "    <tr>\n",
       "      <th>1</th>\n",
       "      <td>u_582132</td>\n",
       "      <td>s_481216</td>\n",
       "      <td>[v_470400, v_470400, v_1530783]</td>\n",
       "      <td>[2, 1, 2]</td>\n",
       "      <td>[2023-11-21T15:39:47.981000000, 2023-11-21T15:...</td>\n",
       "    </tr>\n",
       "    <tr>\n",
       "      <th>2</th>\n",
       "      <td>u_212584</td>\n",
       "      <td>s_16918781</td>\n",
       "      <td>[v_1572055, v_1572055, v_1572055, v_953153, v_...</td>\n",
       "      <td>[2, 3, 2, 2, 1, 2, 2, 1, 2, 1, 2, 1]</td>\n",
       "      <td>[2023-11-16T08:41:47.031000000, 2023-11-16T08:...</td>\n",
       "    </tr>\n",
       "    <tr>\n",
       "      <th>3</th>\n",
       "      <td>u_425177</td>\n",
       "      <td>s_17505104</td>\n",
       "      <td>[v_1375331, v_1922852]</td>\n",
       "      <td>[2, 2]</td>\n",
       "      <td>[2023-11-17T12:42:18.513000000, 2023-11-17T12:...</td>\n",
       "    </tr>\n",
       "    <tr>\n",
       "      <th>4</th>\n",
       "      <td>u_700997</td>\n",
       "      <td>s_15528830</td>\n",
       "      <td>[v_2152997, v_2152997, v_1217630]</td>\n",
       "      <td>[2, 1, 2]</td>\n",
       "      <td>[2023-11-16T17:22:53.530000000, 2023-11-16T17:...</td>\n",
       "    </tr>\n",
       "    <tr>\n",
       "      <th>...</th>\n",
       "      <td>...</td>\n",
       "      <td>...</td>\n",
       "      <td>...</td>\n",
       "      <td>...</td>\n",
       "      <td>...</td>\n",
       "    </tr>\n",
       "    <tr>\n",
       "      <th>83184</th>\n",
       "      <td>u_499368</td>\n",
       "      <td>s_19158589</td>\n",
       "      <td>[v_1716634, v_2232327, v_2232327, v_2232327, v...</td>\n",
       "      <td>[2, 2, 1, 2, 2, 2, 1, 2, 2, 2, 2, 2, 2]</td>\n",
       "      <td>[2023-11-18T03:15:15.530000000, 2023-11-18T03:...</td>\n",
       "    </tr>\n",
       "    <tr>\n",
       "      <th>83185</th>\n",
       "      <td>u_1084868</td>\n",
       "      <td>s_24756162</td>\n",
       "      <td>[v_395706, v_2405231]</td>\n",
       "      <td>[2, 2]</td>\n",
       "      <td>[2023-11-15T18:06:16.550000000, 2023-11-15T18:...</td>\n",
       "    </tr>\n",
       "    <tr>\n",
       "      <th>83186</th>\n",
       "      <td>u_1138032</td>\n",
       "      <td>s_25291467</td>\n",
       "      <td>[v_1213925, v_1213925, v_2359832, v_2359832]</td>\n",
       "      <td>[2, 1, 2, 1]</td>\n",
       "      <td>[2023-11-19T23:19:44.092000000, 2023-11-19T23:...</td>\n",
       "    </tr>\n",
       "    <tr>\n",
       "      <th>83187</th>\n",
       "      <td>u_608102</td>\n",
       "      <td>s_18813020</td>\n",
       "      <td>[v_933773, v_933773, v_2021127, v_1508520, v_2...</td>\n",
       "      <td>[3, 2, 2, 2, 2, 1, 2]</td>\n",
       "      <td>[2023-11-16T15:40:09.408000000, 2023-11-16T15:...</td>\n",
       "    </tr>\n",
       "    <tr>\n",
       "      <th>83188</th>\n",
       "      <td>u_847738</td>\n",
       "      <td>s_7662913</td>\n",
       "      <td>[v_875568, v_2677852, v_1562269, v_2548403, v_...</td>\n",
       "      <td>[2, 2, 2, 2, 2, 2, 2, 2, 2, 2, 1, 2, 2, 2]</td>\n",
       "      <td>[2023-11-17T13:34:03.386000000, 2023-11-17T13:...</td>\n",
       "    </tr>\n",
       "  </tbody>\n",
       "</table>\n",
       "<p>83189 rows × 5 columns</p>\n",
       "</div>"
      ],
      "text/plain": [
       "         user_id  session_id  \\\n",
       "0       u_482520  s_25018731   \n",
       "1       u_582132    s_481216   \n",
       "2       u_212584  s_16918781   \n",
       "3       u_425177  s_17505104   \n",
       "4       u_700997  s_15528830   \n",
       "...          ...         ...   \n",
       "83184   u_499368  s_19158589   \n",
       "83185  u_1084868  s_24756162   \n",
       "83186  u_1138032  s_25291467   \n",
       "83187   u_608102  s_18813020   \n",
       "83188   u_847738   s_7662913   \n",
       "\n",
       "                                              vacancy_id  \\\n",
       "0                      [v_2597196, v_1223061, v_1223061]   \n",
       "1                        [v_470400, v_470400, v_1530783]   \n",
       "2      [v_1572055, v_1572055, v_1572055, v_953153, v_...   \n",
       "3                                 [v_1375331, v_1922852]   \n",
       "4                      [v_2152997, v_2152997, v_1217630]   \n",
       "...                                                  ...   \n",
       "83184  [v_1716634, v_2232327, v_2232327, v_2232327, v...   \n",
       "83185                              [v_395706, v_2405231]   \n",
       "83186       [v_1213925, v_1213925, v_2359832, v_2359832]   \n",
       "83187  [v_933773, v_933773, v_2021127, v_1508520, v_2...   \n",
       "83188  [v_875568, v_2677852, v_1562269, v_2548403, v_...   \n",
       "\n",
       "                                      action_type  \\\n",
       "0                                       [2, 2, 1]   \n",
       "1                                       [2, 1, 2]   \n",
       "2            [2, 3, 2, 2, 1, 2, 2, 1, 2, 1, 2, 1]   \n",
       "3                                          [2, 2]   \n",
       "4                                       [2, 1, 2]   \n",
       "...                                           ...   \n",
       "83184     [2, 2, 1, 2, 2, 2, 1, 2, 2, 2, 2, 2, 2]   \n",
       "83185                                      [2, 2]   \n",
       "83186                                [2, 1, 2, 1]   \n",
       "83187                       [3, 2, 2, 2, 2, 1, 2]   \n",
       "83188  [2, 2, 2, 2, 2, 2, 2, 2, 2, 2, 1, 2, 2, 2]   \n",
       "\n",
       "                                               action_dt  \n",
       "0      [2023-11-19T12:03:13.089000000, 2023-11-19T12:...  \n",
       "1      [2023-11-21T15:39:47.981000000, 2023-11-21T15:...  \n",
       "2      [2023-11-16T08:41:47.031000000, 2023-11-16T08:...  \n",
       "3      [2023-11-17T12:42:18.513000000, 2023-11-17T12:...  \n",
       "4      [2023-11-16T17:22:53.530000000, 2023-11-16T17:...  \n",
       "...                                                  ...  \n",
       "83184  [2023-11-18T03:15:15.530000000, 2023-11-18T03:...  \n",
       "83185  [2023-11-15T18:06:16.550000000, 2023-11-15T18:...  \n",
       "83186  [2023-11-19T23:19:44.092000000, 2023-11-19T23:...  \n",
       "83187  [2023-11-16T15:40:09.408000000, 2023-11-16T15:...  \n",
       "83188  [2023-11-17T13:34:03.386000000, 2023-11-17T13:...  \n",
       "\n",
       "[83189 rows x 5 columns]"
      ]
     },
     "execution_count": 4,
     "metadata": {},
     "output_type": "execute_result"
    }
   ],
   "source": [
    "test"
   ]
  },
  {
   "cell_type": "code",
   "execution_count": 5,
   "metadata": {},
   "outputs": [
    {
     "data": {
      "text/html": [
       "<div>\n",
       "<style scoped>\n",
       "    .dataframe tbody tr th:only-of-type {\n",
       "        vertical-align: middle;\n",
       "    }\n",
       "\n",
       "    .dataframe tbody tr th {\n",
       "        vertical-align: top;\n",
       "    }\n",
       "\n",
       "    .dataframe thead th {\n",
       "        text-align: right;\n",
       "    }\n",
       "</style>\n",
       "<table border=\"1\" class=\"dataframe\">\n",
       "  <thead>\n",
       "    <tr style=\"text-align: right;\">\n",
       "      <th></th>\n",
       "      <th>user_id</th>\n",
       "      <th>session_id</th>\n",
       "      <th>vacancy_id</th>\n",
       "      <th>action_type</th>\n",
       "      <th>action_dt</th>\n",
       "    </tr>\n",
       "  </thead>\n",
       "  <tbody>\n",
       "    <tr>\n",
       "      <th>0</th>\n",
       "      <td>u_332060</td>\n",
       "      <td>s_28301374</td>\n",
       "      <td>v_2571684</td>\n",
       "      <td>2</td>\n",
       "      <td>2023-11-01 00:40:58.105</td>\n",
       "    </tr>\n",
       "    <tr>\n",
       "      <th>0</th>\n",
       "      <td>u_332060</td>\n",
       "      <td>s_28301374</td>\n",
       "      <td>v_488179</td>\n",
       "      <td>2</td>\n",
       "      <td>2023-11-01 00:58:13.091</td>\n",
       "    </tr>\n",
       "    <tr>\n",
       "      <th>0</th>\n",
       "      <td>u_332060</td>\n",
       "      <td>s_28301374</td>\n",
       "      <td>v_2389179</td>\n",
       "      <td>2</td>\n",
       "      <td>2023-11-01 01:42:19.664</td>\n",
       "    </tr>\n",
       "    <tr>\n",
       "      <th>0</th>\n",
       "      <td>u_332060</td>\n",
       "      <td>s_28301374</td>\n",
       "      <td>v_1393783</td>\n",
       "      <td>2</td>\n",
       "      <td>2023-11-01 01:24:21.471</td>\n",
       "    </tr>\n",
       "    <tr>\n",
       "      <th>0</th>\n",
       "      <td>u_332060</td>\n",
       "      <td>s_28301374</td>\n",
       "      <td>v_2608935</td>\n",
       "      <td>2</td>\n",
       "      <td>2023-11-01 01:39:45.256</td>\n",
       "    </tr>\n",
       "    <tr>\n",
       "      <th>...</th>\n",
       "      <td>...</td>\n",
       "      <td>...</td>\n",
       "      <td>...</td>\n",
       "      <td>...</td>\n",
       "      <td>...</td>\n",
       "    </tr>\n",
       "    <tr>\n",
       "      <th>3463059</th>\n",
       "      <td>u_202578</td>\n",
       "      <td>s_8306993</td>\n",
       "      <td>v_1499243</td>\n",
       "      <td>2</td>\n",
       "      <td>2023-11-13 21:01:41.813</td>\n",
       "    </tr>\n",
       "    <tr>\n",
       "      <th>3463060</th>\n",
       "      <td>u_895531</td>\n",
       "      <td>s_7293998</td>\n",
       "      <td>v_2041381</td>\n",
       "      <td>2</td>\n",
       "      <td>2023-11-14 17:51:22.169</td>\n",
       "    </tr>\n",
       "    <tr>\n",
       "      <th>3463061</th>\n",
       "      <td>u_317562</td>\n",
       "      <td>s_9866576</td>\n",
       "      <td>v_503192</td>\n",
       "      <td>2</td>\n",
       "      <td>2023-11-14 20:03:54.988</td>\n",
       "    </tr>\n",
       "    <tr>\n",
       "      <th>3463062</th>\n",
       "      <td>u_225581</td>\n",
       "      <td>s_19724962</td>\n",
       "      <td>v_2526106</td>\n",
       "      <td>2</td>\n",
       "      <td>2023-11-14 20:52:51.985</td>\n",
       "    </tr>\n",
       "    <tr>\n",
       "      <th>3463063</th>\n",
       "      <td>u_1127158</td>\n",
       "      <td>s_9245205</td>\n",
       "      <td>v_868748</td>\n",
       "      <td>2</td>\n",
       "      <td>2023-11-14 22:29:12.833</td>\n",
       "    </tr>\n",
       "  </tbody>\n",
       "</table>\n",
       "<p>21516070 rows × 5 columns</p>\n",
       "</div>"
      ],
      "text/plain": [
       "           user_id  session_id vacancy_id action_type               action_dt\n",
       "0         u_332060  s_28301374  v_2571684           2 2023-11-01 00:40:58.105\n",
       "0         u_332060  s_28301374   v_488179           2 2023-11-01 00:58:13.091\n",
       "0         u_332060  s_28301374  v_2389179           2 2023-11-01 01:42:19.664\n",
       "0         u_332060  s_28301374  v_1393783           2 2023-11-01 01:24:21.471\n",
       "0         u_332060  s_28301374  v_2608935           2 2023-11-01 01:39:45.256\n",
       "...            ...         ...        ...         ...                     ...\n",
       "3463059   u_202578   s_8306993  v_1499243           2 2023-11-13 21:01:41.813\n",
       "3463060   u_895531   s_7293998  v_2041381           2 2023-11-14 17:51:22.169\n",
       "3463061   u_317562   s_9866576   v_503192           2 2023-11-14 20:03:54.988\n",
       "3463062   u_225581  s_19724962  v_2526106           2 2023-11-14 20:52:51.985\n",
       "3463063  u_1127158   s_9245205   v_868748           2 2023-11-14 22:29:12.833\n",
       "\n",
       "[21516070 rows x 5 columns]"
      ]
     },
     "execution_count": 5,
     "metadata": {},
     "output_type": "execute_result"
    }
   ],
   "source": [
    "train_pairs = train.explode([\"vacancy_id\", \"action_type\", \"action_dt\"])\n",
    "test_pairs = test.explode([\"vacancy_id\", \"action_type\", \"action_dt\"])\n",
    "train_pairs"
   ]
  },
  {
   "cell_type": "code",
   "execution_count": 6,
   "metadata": {},
   "outputs": [
    {
     "data": {
      "text/plain": [
       "user_id        0\n",
       "session_id     0\n",
       "vacancy_id     0\n",
       "action_type    0\n",
       "action_dt      0\n",
       "dtype: int64"
      ]
     },
     "execution_count": 6,
     "metadata": {},
     "output_type": "execute_result"
    }
   ],
   "source": [
    "train_pairs.isna().sum()"
   ]
  },
  {
   "cell_type": "code",
   "execution_count": 7,
   "metadata": {},
   "outputs": [
    {
     "data": {
      "text/plain": [
       "user_id        0\n",
       "session_id     0\n",
       "vacancy_id     0\n",
       "action_type    0\n",
       "action_dt      0\n",
       "dtype: int64"
      ]
     },
     "execution_count": 7,
     "metadata": {},
     "output_type": "execute_result"
    }
   ],
   "source": [
    "test_pairs.isna().sum()"
   ]
  },
  {
   "cell_type": "code",
   "execution_count": 8,
   "metadata": {},
   "outputs": [
    {
     "data": {
      "text/html": [
       "<div>\n",
       "<style scoped>\n",
       "    .dataframe tbody tr th:only-of-type {\n",
       "        vertical-align: middle;\n",
       "    }\n",
       "\n",
       "    .dataframe tbody tr th {\n",
       "        vertical-align: top;\n",
       "    }\n",
       "\n",
       "    .dataframe thead th {\n",
       "        text-align: right;\n",
       "    }\n",
       "</style>\n",
       "<table border=\"1\" class=\"dataframe\">\n",
       "  <thead>\n",
       "    <tr style=\"text-align: right;\">\n",
       "      <th></th>\n",
       "      <th>session_id</th>\n",
       "      <th>vacancy_id</th>\n",
       "      <th>action_type</th>\n",
       "      <th>action_dt</th>\n",
       "    </tr>\n",
       "  </thead>\n",
       "  <tbody>\n",
       "    <tr>\n",
       "      <th>count</th>\n",
       "      <td>882409.00000</td>\n",
       "      <td>882409.00000</td>\n",
       "      <td>882409.00000</td>\n",
       "      <td>882409.00000</td>\n",
       "    </tr>\n",
       "    <tr>\n",
       "      <th>mean</th>\n",
       "      <td>24.38333</td>\n",
       "      <td>24.38333</td>\n",
       "      <td>24.38333</td>\n",
       "      <td>24.38333</td>\n",
       "    </tr>\n",
       "    <tr>\n",
       "      <th>std</th>\n",
       "      <td>289.57993</td>\n",
       "      <td>289.57993</td>\n",
       "      <td>289.57993</td>\n",
       "      <td>289.57993</td>\n",
       "    </tr>\n",
       "    <tr>\n",
       "      <th>min</th>\n",
       "      <td>1.00000</td>\n",
       "      <td>1.00000</td>\n",
       "      <td>1.00000</td>\n",
       "      <td>1.00000</td>\n",
       "    </tr>\n",
       "    <tr>\n",
       "      <th>25%</th>\n",
       "      <td>2.00000</td>\n",
       "      <td>2.00000</td>\n",
       "      <td>2.00000</td>\n",
       "      <td>2.00000</td>\n",
       "    </tr>\n",
       "    <tr>\n",
       "      <th>50%</th>\n",
       "      <td>7.00000</td>\n",
       "      <td>7.00000</td>\n",
       "      <td>7.00000</td>\n",
       "      <td>7.00000</td>\n",
       "    </tr>\n",
       "    <tr>\n",
       "      <th>75%</th>\n",
       "      <td>22.00000</td>\n",
       "      <td>22.00000</td>\n",
       "      <td>22.00000</td>\n",
       "      <td>22.00000</td>\n",
       "    </tr>\n",
       "    <tr>\n",
       "      <th>max</th>\n",
       "      <td>260689.00000</td>\n",
       "      <td>260689.00000</td>\n",
       "      <td>260689.00000</td>\n",
       "      <td>260689.00000</td>\n",
       "    </tr>\n",
       "  </tbody>\n",
       "</table>\n",
       "</div>"
      ],
      "text/plain": [
       "         session_id    vacancy_id   action_type     action_dt\n",
       "count  882409.00000  882409.00000  882409.00000  882409.00000\n",
       "mean       24.38333      24.38333      24.38333      24.38333\n",
       "std       289.57993     289.57993     289.57993     289.57993\n",
       "min         1.00000       1.00000       1.00000       1.00000\n",
       "25%         2.00000       2.00000       2.00000       2.00000\n",
       "50%         7.00000       7.00000       7.00000       7.00000\n",
       "75%        22.00000      22.00000      22.00000      22.00000\n",
       "max    260689.00000  260689.00000  260689.00000  260689.00000"
      ]
     },
     "execution_count": 8,
     "metadata": {},
     "output_type": "execute_result"
    }
   ],
   "source": [
    "train_pairs.groupby(\"user_id\").count().describe()"
   ]
  },
  {
   "cell_type": "code",
   "execution_count": 9,
   "metadata": {},
   "outputs": [
    {
     "data": {
      "text/html": [
       "<div>\n",
       "<style scoped>\n",
       "    .dataframe tbody tr th:only-of-type {\n",
       "        vertical-align: middle;\n",
       "    }\n",
       "\n",
       "    .dataframe tbody tr th {\n",
       "        vertical-align: top;\n",
       "    }\n",
       "\n",
       "    .dataframe thead th {\n",
       "        text-align: right;\n",
       "    }\n",
       "</style>\n",
       "<table border=\"1\" class=\"dataframe\">\n",
       "  <thead>\n",
       "    <tr style=\"text-align: right;\">\n",
       "      <th></th>\n",
       "      <th>session_id</th>\n",
       "      <th>vacancy_id</th>\n",
       "      <th>action_type</th>\n",
       "      <th>action_dt</th>\n",
       "    </tr>\n",
       "    <tr>\n",
       "      <th>user_id</th>\n",
       "      <th></th>\n",
       "      <th></th>\n",
       "      <th></th>\n",
       "      <th></th>\n",
       "    </tr>\n",
       "  </thead>\n",
       "  <tbody>\n",
       "    <tr>\n",
       "      <th>u_0</th>\n",
       "      <td>1</td>\n",
       "      <td>1</td>\n",
       "      <td>1</td>\n",
       "      <td>1</td>\n",
       "    </tr>\n",
       "    <tr>\n",
       "      <th>u_22470</th>\n",
       "      <td>1</td>\n",
       "      <td>1</td>\n",
       "      <td>1</td>\n",
       "      <td>1</td>\n",
       "    </tr>\n",
       "    <tr>\n",
       "      <th>u_520916</th>\n",
       "      <td>1</td>\n",
       "      <td>1</td>\n",
       "      <td>1</td>\n",
       "      <td>1</td>\n",
       "    </tr>\n",
       "    <tr>\n",
       "      <th>u_520920</th>\n",
       "      <td>1</td>\n",
       "      <td>1</td>\n",
       "      <td>1</td>\n",
       "      <td>1</td>\n",
       "    </tr>\n",
       "    <tr>\n",
       "      <th>u_773478</th>\n",
       "      <td>1</td>\n",
       "      <td>1</td>\n",
       "      <td>1</td>\n",
       "      <td>1</td>\n",
       "    </tr>\n",
       "    <tr>\n",
       "      <th>...</th>\n",
       "      <td>...</td>\n",
       "      <td>...</td>\n",
       "      <td>...</td>\n",
       "      <td>...</td>\n",
       "    </tr>\n",
       "    <tr>\n",
       "      <th>u_1100222</th>\n",
       "      <td>4901</td>\n",
       "      <td>4901</td>\n",
       "      <td>4901</td>\n",
       "      <td>4901</td>\n",
       "    </tr>\n",
       "    <tr>\n",
       "      <th>u_370418</th>\n",
       "      <td>6483</td>\n",
       "      <td>6483</td>\n",
       "      <td>6483</td>\n",
       "      <td>6483</td>\n",
       "    </tr>\n",
       "    <tr>\n",
       "      <th>u_623716</th>\n",
       "      <td>7281</td>\n",
       "      <td>7281</td>\n",
       "      <td>7281</td>\n",
       "      <td>7281</td>\n",
       "    </tr>\n",
       "    <tr>\n",
       "      <th>u_1142370</th>\n",
       "      <td>51975</td>\n",
       "      <td>51975</td>\n",
       "      <td>51975</td>\n",
       "      <td>51975</td>\n",
       "    </tr>\n",
       "    <tr>\n",
       "      <th>u_496758</th>\n",
       "      <td>260689</td>\n",
       "      <td>260689</td>\n",
       "      <td>260689</td>\n",
       "      <td>260689</td>\n",
       "    </tr>\n",
       "  </tbody>\n",
       "</table>\n",
       "<p>882409 rows × 4 columns</p>\n",
       "</div>"
      ],
      "text/plain": [
       "           session_id  vacancy_id  action_type  action_dt\n",
       "user_id                                                  \n",
       "u_0                 1           1            1          1\n",
       "u_22470             1           1            1          1\n",
       "u_520916            1           1            1          1\n",
       "u_520920            1           1            1          1\n",
       "u_773478            1           1            1          1\n",
       "...               ...         ...          ...        ...\n",
       "u_1100222        4901        4901         4901       4901\n",
       "u_370418         6483        6483         6483       6483\n",
       "u_623716         7281        7281         7281       7281\n",
       "u_1142370       51975       51975        51975      51975\n",
       "u_496758       260689      260689       260689     260689\n",
       "\n",
       "[882409 rows x 4 columns]"
      ]
     },
     "execution_count": 9,
     "metadata": {},
     "output_type": "execute_result"
    }
   ],
   "source": [
    "grouped = train_pairs.groupby(\"user_id\").count().sort_values(\"session_id\")\n",
    "grouped"
   ]
  },
  {
   "cell_type": "code",
   "execution_count": 10,
   "metadata": {},
   "outputs": [
    {
     "data": {
      "text/html": [
       "<div>\n",
       "<style scoped>\n",
       "    .dataframe tbody tr th:only-of-type {\n",
       "        vertical-align: middle;\n",
       "    }\n",
       "\n",
       "    .dataframe tbody tr th {\n",
       "        vertical-align: top;\n",
       "    }\n",
       "\n",
       "    .dataframe thead th {\n",
       "        text-align: right;\n",
       "    }\n",
       "</style>\n",
       "<table border=\"1\" class=\"dataframe\">\n",
       "  <thead>\n",
       "    <tr style=\"text-align: right;\">\n",
       "      <th></th>\n",
       "      <th>session_id</th>\n",
       "      <th>vacancy_id</th>\n",
       "      <th>action_type</th>\n",
       "      <th>action_dt</th>\n",
       "    </tr>\n",
       "    <tr>\n",
       "      <th>user_id</th>\n",
       "      <th></th>\n",
       "      <th></th>\n",
       "      <th></th>\n",
       "      <th></th>\n",
       "    </tr>\n",
       "  </thead>\n",
       "  <tbody>\n",
       "    <tr>\n",
       "      <th>u_286332</th>\n",
       "      <td>2</td>\n",
       "      <td>2</td>\n",
       "      <td>2</td>\n",
       "      <td>2</td>\n",
       "    </tr>\n",
       "    <tr>\n",
       "      <th>u_536987</th>\n",
       "      <td>2</td>\n",
       "      <td>2</td>\n",
       "      <td>2</td>\n",
       "      <td>2</td>\n",
       "    </tr>\n",
       "    <tr>\n",
       "      <th>u_463606</th>\n",
       "      <td>2</td>\n",
       "      <td>2</td>\n",
       "      <td>2</td>\n",
       "      <td>2</td>\n",
       "    </tr>\n",
       "    <tr>\n",
       "      <th>u_45264</th>\n",
       "      <td>2</td>\n",
       "      <td>2</td>\n",
       "      <td>2</td>\n",
       "      <td>2</td>\n",
       "    </tr>\n",
       "    <tr>\n",
       "      <th>u_215132</th>\n",
       "      <td>2</td>\n",
       "      <td>2</td>\n",
       "      <td>2</td>\n",
       "      <td>2</td>\n",
       "    </tr>\n",
       "    <tr>\n",
       "      <th>...</th>\n",
       "      <td>...</td>\n",
       "      <td>...</td>\n",
       "      <td>...</td>\n",
       "      <td>...</td>\n",
       "    </tr>\n",
       "    <tr>\n",
       "      <th>u_281860</th>\n",
       "      <td>995</td>\n",
       "      <td>995</td>\n",
       "      <td>995</td>\n",
       "      <td>995</td>\n",
       "    </tr>\n",
       "    <tr>\n",
       "      <th>u_618629</th>\n",
       "      <td>996</td>\n",
       "      <td>996</td>\n",
       "      <td>996</td>\n",
       "      <td>996</td>\n",
       "    </tr>\n",
       "    <tr>\n",
       "      <th>u_141582</th>\n",
       "      <td>996</td>\n",
       "      <td>996</td>\n",
       "      <td>996</td>\n",
       "      <td>996</td>\n",
       "    </tr>\n",
       "    <tr>\n",
       "      <th>u_61774</th>\n",
       "      <td>996</td>\n",
       "      <td>996</td>\n",
       "      <td>996</td>\n",
       "      <td>996</td>\n",
       "    </tr>\n",
       "    <tr>\n",
       "      <th>u_73585</th>\n",
       "      <td>999</td>\n",
       "      <td>999</td>\n",
       "      <td>999</td>\n",
       "      <td>999</td>\n",
       "    </tr>\n",
       "  </tbody>\n",
       "</table>\n",
       "<p>743998 rows × 4 columns</p>\n",
       "</div>"
      ],
      "text/plain": [
       "          session_id  vacancy_id  action_type  action_dt\n",
       "user_id                                                 \n",
       "u_286332           2           2            2          2\n",
       "u_536987           2           2            2          2\n",
       "u_463606           2           2            2          2\n",
       "u_45264            2           2            2          2\n",
       "u_215132           2           2            2          2\n",
       "...              ...         ...          ...        ...\n",
       "u_281860         995         995          995        995\n",
       "u_618629         996         996          996        996\n",
       "u_141582         996         996          996        996\n",
       "u_61774          996         996          996        996\n",
       "u_73585          999         999          999        999\n",
       "\n",
       "[743998 rows x 4 columns]"
      ]
     },
     "execution_count": 10,
     "metadata": {},
     "output_type": "execute_result"
    }
   ],
   "source": [
    "subset = grouped[(grouped[\"session_id\"] > 1) & (grouped[\"session_id\"] < 1000)]\n",
    "subset"
   ]
  },
  {
   "cell_type": "code",
   "execution_count": 11,
   "metadata": {},
   "outputs": [
    {
     "data": {
      "text/plain": [
       "((21516070, 5), (547642, 5))"
      ]
     },
     "execution_count": 11,
     "metadata": {},
     "output_type": "execute_result"
    }
   ],
   "source": [
    "train_pairs.shape, test_pairs.shape"
   ]
  },
  {
   "cell_type": "code",
   "execution_count": 12,
   "metadata": {},
   "outputs": [
    {
     "data": {
      "text/html": [
       "<div>\n",
       "<style scoped>\n",
       "    .dataframe tbody tr th:only-of-type {\n",
       "        vertical-align: middle;\n",
       "    }\n",
       "\n",
       "    .dataframe tbody tr th {\n",
       "        vertical-align: top;\n",
       "    }\n",
       "\n",
       "    .dataframe thead th {\n",
       "        text-align: right;\n",
       "    }\n",
       "</style>\n",
       "<table border=\"1\" class=\"dataframe\">\n",
       "  <thead>\n",
       "    <tr style=\"text-align: right;\">\n",
       "      <th></th>\n",
       "      <th>user_id</th>\n",
       "      <th>session_id</th>\n",
       "      <th>vacancy_id</th>\n",
       "      <th>action_type</th>\n",
       "      <th>action_dt</th>\n",
       "    </tr>\n",
       "  </thead>\n",
       "  <tbody>\n",
       "    <tr>\n",
       "      <th>0</th>\n",
       "      <td>u_332060</td>\n",
       "      <td>s_28301374</td>\n",
       "      <td>v_2571684</td>\n",
       "      <td>2</td>\n",
       "      <td>2023-11-01 00:40:58.105</td>\n",
       "    </tr>\n",
       "    <tr>\n",
       "      <th>0</th>\n",
       "      <td>u_332060</td>\n",
       "      <td>s_28301374</td>\n",
       "      <td>v_488179</td>\n",
       "      <td>2</td>\n",
       "      <td>2023-11-01 00:58:13.091</td>\n",
       "    </tr>\n",
       "    <tr>\n",
       "      <th>0</th>\n",
       "      <td>u_332060</td>\n",
       "      <td>s_28301374</td>\n",
       "      <td>v_2389179</td>\n",
       "      <td>2</td>\n",
       "      <td>2023-11-01 01:42:19.664</td>\n",
       "    </tr>\n",
       "    <tr>\n",
       "      <th>0</th>\n",
       "      <td>u_332060</td>\n",
       "      <td>s_28301374</td>\n",
       "      <td>v_1393783</td>\n",
       "      <td>2</td>\n",
       "      <td>2023-11-01 01:24:21.471</td>\n",
       "    </tr>\n",
       "    <tr>\n",
       "      <th>0</th>\n",
       "      <td>u_332060</td>\n",
       "      <td>s_28301374</td>\n",
       "      <td>v_2608935</td>\n",
       "      <td>2</td>\n",
       "      <td>2023-11-01 01:39:45.256</td>\n",
       "    </tr>\n",
       "    <tr>\n",
       "      <th>...</th>\n",
       "      <td>...</td>\n",
       "      <td>...</td>\n",
       "      <td>...</td>\n",
       "      <td>...</td>\n",
       "      <td>...</td>\n",
       "    </tr>\n",
       "    <tr>\n",
       "      <th>3463059</th>\n",
       "      <td>u_202578</td>\n",
       "      <td>s_8306993</td>\n",
       "      <td>v_1499243</td>\n",
       "      <td>2</td>\n",
       "      <td>2023-11-13 21:01:41.813</td>\n",
       "    </tr>\n",
       "    <tr>\n",
       "      <th>3463060</th>\n",
       "      <td>u_895531</td>\n",
       "      <td>s_7293998</td>\n",
       "      <td>v_2041381</td>\n",
       "      <td>2</td>\n",
       "      <td>2023-11-14 17:51:22.169</td>\n",
       "    </tr>\n",
       "    <tr>\n",
       "      <th>3463061</th>\n",
       "      <td>u_317562</td>\n",
       "      <td>s_9866576</td>\n",
       "      <td>v_503192</td>\n",
       "      <td>2</td>\n",
       "      <td>2023-11-14 20:03:54.988</td>\n",
       "    </tr>\n",
       "    <tr>\n",
       "      <th>3463062</th>\n",
       "      <td>u_225581</td>\n",
       "      <td>s_19724962</td>\n",
       "      <td>v_2526106</td>\n",
       "      <td>2</td>\n",
       "      <td>2023-11-14 20:52:51.985</td>\n",
       "    </tr>\n",
       "    <tr>\n",
       "      <th>3463063</th>\n",
       "      <td>u_1127158</td>\n",
       "      <td>s_9245205</td>\n",
       "      <td>v_868748</td>\n",
       "      <td>2</td>\n",
       "      <td>2023-11-14 22:29:12.833</td>\n",
       "    </tr>\n",
       "  </tbody>\n",
       "</table>\n",
       "<p>20525199 rows × 5 columns</p>\n",
       "</div>"
      ],
      "text/plain": [
       "           user_id  session_id vacancy_id action_type               action_dt\n",
       "0         u_332060  s_28301374  v_2571684           2 2023-11-01 00:40:58.105\n",
       "0         u_332060  s_28301374   v_488179           2 2023-11-01 00:58:13.091\n",
       "0         u_332060  s_28301374  v_2389179           2 2023-11-01 01:42:19.664\n",
       "0         u_332060  s_28301374  v_1393783           2 2023-11-01 01:24:21.471\n",
       "0         u_332060  s_28301374  v_2608935           2 2023-11-01 01:39:45.256\n",
       "...            ...         ...        ...         ...                     ...\n",
       "3463059   u_202578   s_8306993  v_1499243           2 2023-11-13 21:01:41.813\n",
       "3463060   u_895531   s_7293998  v_2041381           2 2023-11-14 17:51:22.169\n",
       "3463061   u_317562   s_9866576   v_503192           2 2023-11-14 20:03:54.988\n",
       "3463062   u_225581  s_19724962  v_2526106           2 2023-11-14 20:52:51.985\n",
       "3463063  u_1127158   s_9245205   v_868748           2 2023-11-14 22:29:12.833\n",
       "\n",
       "[20525199 rows x 5 columns]"
      ]
     },
     "execution_count": 12,
     "metadata": {},
     "output_type": "execute_result"
    }
   ],
   "source": [
    "# удалим странных пользователей с тысячами вакансий\n",
    "\n",
    "train_pairs = train_pairs[train_pairs[\"user_id\"].isin(subset.reset_index()[\"user_id\"])].copy()\n",
    "train_pairs"
   ]
  },
  {
   "cell_type": "code",
   "execution_count": 13,
   "metadata": {},
   "outputs": [
    {
     "data": {
      "text/html": [
       "<div>\n",
       "<style scoped>\n",
       "    .dataframe tbody tr th:only-of-type {\n",
       "        vertical-align: middle;\n",
       "    }\n",
       "\n",
       "    .dataframe tbody tr th {\n",
       "        vertical-align: top;\n",
       "    }\n",
       "\n",
       "    .dataframe thead th {\n",
       "        text-align: right;\n",
       "    }\n",
       "</style>\n",
       "<table border=\"1\" class=\"dataframe\">\n",
       "  <thead>\n",
       "    <tr style=\"text-align: right;\">\n",
       "      <th></th>\n",
       "      <th>user_id</th>\n",
       "      <th>session_id</th>\n",
       "      <th>vacancy_id</th>\n",
       "      <th>action_type</th>\n",
       "      <th>action_dt</th>\n",
       "    </tr>\n",
       "  </thead>\n",
       "  <tbody>\n",
       "    <tr>\n",
       "      <th>0</th>\n",
       "      <td>u_332060</td>\n",
       "      <td>s_28301374</td>\n",
       "      <td>v_2571684</td>\n",
       "      <td>1.0</td>\n",
       "      <td>2023-11-01 00:40:58.105</td>\n",
       "    </tr>\n",
       "    <tr>\n",
       "      <th>0</th>\n",
       "      <td>u_332060</td>\n",
       "      <td>s_28301374</td>\n",
       "      <td>v_488179</td>\n",
       "      <td>1.0</td>\n",
       "      <td>2023-11-01 00:58:13.091</td>\n",
       "    </tr>\n",
       "    <tr>\n",
       "      <th>0</th>\n",
       "      <td>u_332060</td>\n",
       "      <td>s_28301374</td>\n",
       "      <td>v_2389179</td>\n",
       "      <td>1.0</td>\n",
       "      <td>2023-11-01 01:42:19.664</td>\n",
       "    </tr>\n",
       "    <tr>\n",
       "      <th>0</th>\n",
       "      <td>u_332060</td>\n",
       "      <td>s_28301374</td>\n",
       "      <td>v_1393783</td>\n",
       "      <td>1.0</td>\n",
       "      <td>2023-11-01 01:24:21.471</td>\n",
       "    </tr>\n",
       "    <tr>\n",
       "      <th>0</th>\n",
       "      <td>u_332060</td>\n",
       "      <td>s_28301374</td>\n",
       "      <td>v_2608935</td>\n",
       "      <td>1.0</td>\n",
       "      <td>2023-11-01 01:39:45.256</td>\n",
       "    </tr>\n",
       "  </tbody>\n",
       "</table>\n",
       "</div>"
      ],
      "text/plain": [
       "    user_id  session_id vacancy_id action_type               action_dt\n",
       "0  u_332060  s_28301374  v_2571684         1.0 2023-11-01 00:40:58.105\n",
       "0  u_332060  s_28301374   v_488179         1.0 2023-11-01 00:58:13.091\n",
       "0  u_332060  s_28301374  v_2389179         1.0 2023-11-01 01:42:19.664\n",
       "0  u_332060  s_28301374  v_1393783         1.0 2023-11-01 01:24:21.471\n",
       "0  u_332060  s_28301374  v_2608935         1.0 2023-11-01 01:39:45.256"
      ]
     },
     "execution_count": 13,
     "metadata": {},
     "output_type": "execute_result"
    }
   ],
   "source": [
    "# 1 - отклик, 2 - просмотр (открытие страницы вакансии), 3 - добавление вакансии в избранное\n",
    "\n",
    "train_pairs.loc[:, \"action_type\"] = train_pairs[\"action_type\"].map({1: 4.0, 2: 1.0, 3: 2.0})\n",
    "test_pairs.loc[:, \"action_type\"] = test_pairs[\"action_type\"].map({1: 4.0, 2: 1.0, 3: 2.0})\n",
    "train_pairs.head()"
   ]
  },
  {
   "cell_type": "code",
   "execution_count": 14,
   "metadata": {},
   "outputs": [
    {
     "data": {
      "text/html": [
       "<div>\n",
       "<style scoped>\n",
       "    .dataframe tbody tr th:only-of-type {\n",
       "        vertical-align: middle;\n",
       "    }\n",
       "\n",
       "    .dataframe tbody tr th {\n",
       "        vertical-align: top;\n",
       "    }\n",
       "\n",
       "    .dataframe thead th {\n",
       "        text-align: right;\n",
       "    }\n",
       "</style>\n",
       "<table border=\"1\" class=\"dataframe\">\n",
       "  <thead>\n",
       "    <tr style=\"text-align: right;\">\n",
       "      <th></th>\n",
       "      <th>user_id</th>\n",
       "      <th>session_id</th>\n",
       "      <th>vacancy_id</th>\n",
       "      <th>action_type</th>\n",
       "      <th>action_dt</th>\n",
       "    </tr>\n",
       "  </thead>\n",
       "  <tbody>\n",
       "    <tr>\n",
       "      <th>0</th>\n",
       "      <td>u_482520</td>\n",
       "      <td>s_25018731</td>\n",
       "      <td>v_2597196</td>\n",
       "      <td>1.0</td>\n",
       "      <td>2023-11-19 12:03:13.089</td>\n",
       "    </tr>\n",
       "    <tr>\n",
       "      <th>0</th>\n",
       "      <td>u_482520</td>\n",
       "      <td>s_25018731</td>\n",
       "      <td>v_1223061</td>\n",
       "      <td>1.0</td>\n",
       "      <td>2023-11-19 12:03:30.396</td>\n",
       "    </tr>\n",
       "    <tr>\n",
       "      <th>0</th>\n",
       "      <td>u_482520</td>\n",
       "      <td>s_25018731</td>\n",
       "      <td>v_1223061</td>\n",
       "      <td>4.0</td>\n",
       "      <td>2023-11-19 12:05:03.473</td>\n",
       "    </tr>\n",
       "    <tr>\n",
       "      <th>1</th>\n",
       "      <td>u_582132</td>\n",
       "      <td>s_481216</td>\n",
       "      <td>v_470400</td>\n",
       "      <td>1.0</td>\n",
       "      <td>2023-11-21 15:39:47.981</td>\n",
       "    </tr>\n",
       "    <tr>\n",
       "      <th>1</th>\n",
       "      <td>u_582132</td>\n",
       "      <td>s_481216</td>\n",
       "      <td>v_470400</td>\n",
       "      <td>4.0</td>\n",
       "      <td>2023-11-21 15:43:57.620</td>\n",
       "    </tr>\n",
       "  </tbody>\n",
       "</table>\n",
       "</div>"
      ],
      "text/plain": [
       "    user_id  session_id vacancy_id action_type               action_dt\n",
       "0  u_482520  s_25018731  v_2597196         1.0 2023-11-19 12:03:13.089\n",
       "0  u_482520  s_25018731  v_1223061         1.0 2023-11-19 12:03:30.396\n",
       "0  u_482520  s_25018731  v_1223061         4.0 2023-11-19 12:05:03.473\n",
       "1  u_582132    s_481216   v_470400         1.0 2023-11-21 15:39:47.981\n",
       "1  u_582132    s_481216   v_470400         4.0 2023-11-21 15:43:57.620"
      ]
     },
     "execution_count": 14,
     "metadata": {},
     "output_type": "execute_result"
    }
   ],
   "source": [
    "test_pairs.head()"
   ]
  },
  {
   "cell_type": "code",
   "execution_count": 15,
   "metadata": {},
   "outputs": [
    {
     "name": "stderr",
     "output_type": "stream",
     "text": [
      "100%|██████████| 2734129/2734129 [02:22<00:00, 19201.14it/s]\n"
     ]
    },
    {
     "data": {
      "text/plain": [
       "True"
      ]
     },
     "execution_count": 15,
     "metadata": {},
     "output_type": "execute_result"
    }
   ],
   "source": [
    "vac_dataset = datasets.load_from_disk(\"vacancies_dataset\")\n",
    "vac_dataset.set_format(\"numpy\")\n",
    "\n",
    "vac2vec = {el[\"vacancy_id\"]: el[\"embedding\"] for el in tqdm(vac_dataset)}\n",
    "\n",
    "len(vac2vec.keys()) == len(vac_dataset)"
   ]
  },
  {
   "cell_type": "code",
   "execution_count": 16,
   "metadata": {},
   "outputs": [
    {
     "name": "stderr",
     "output_type": "stream",
     "text": [
      "100%|██████████| 20525199/20525199 [00:14<00:00, 1382145.52it/s]\n",
      "100%|██████████| 547642/547642 [00:00<00:00, 1412993.91it/s]\n"
     ]
    }
   ],
   "source": [
    "train_pairs.loc[:, \"embedding\"] = train_pairs[\"vacancy_id\"].progress_apply(lambda t: vac2vec[t])\n",
    "test_pairs.loc[:, \"embedding\"] = test_pairs[\"vacancy_id\"].progress_apply(lambda t: vac2vec[t])"
   ]
  },
  {
   "cell_type": "code",
   "execution_count": 17,
   "metadata": {},
   "outputs": [
    {
     "data": {
      "text/html": [
       "<div>\n",
       "<style scoped>\n",
       "    .dataframe tbody tr th:only-of-type {\n",
       "        vertical-align: middle;\n",
       "    }\n",
       "\n",
       "    .dataframe tbody tr th {\n",
       "        vertical-align: top;\n",
       "    }\n",
       "\n",
       "    .dataframe thead th {\n",
       "        text-align: right;\n",
       "    }\n",
       "</style>\n",
       "<table border=\"1\" class=\"dataframe\">\n",
       "  <thead>\n",
       "    <tr style=\"text-align: right;\">\n",
       "      <th></th>\n",
       "      <th>user_id</th>\n",
       "      <th>session_id</th>\n",
       "      <th>vacancy_id</th>\n",
       "      <th>action_type</th>\n",
       "      <th>action_dt</th>\n",
       "      <th>embedding</th>\n",
       "      <th>key</th>\n",
       "    </tr>\n",
       "  </thead>\n",
       "  <tbody>\n",
       "    <tr>\n",
       "      <th>0</th>\n",
       "      <td>u_482520</td>\n",
       "      <td>s_25018731</td>\n",
       "      <td>v_2597196</td>\n",
       "      <td>1.0</td>\n",
       "      <td>2023-11-19 12:03:13.089</td>\n",
       "      <td>[0.5978287, -0.49921575, -0.21153846, -0.99969...</td>\n",
       "      <td>u_482520/s_25018731</td>\n",
       "    </tr>\n",
       "    <tr>\n",
       "      <th>0</th>\n",
       "      <td>u_482520</td>\n",
       "      <td>s_25018731</td>\n",
       "      <td>v_1223061</td>\n",
       "      <td>1.0</td>\n",
       "      <td>2023-11-19 12:03:30.396</td>\n",
       "      <td>[-0.6776678, -0.017538857, 0.07692308, -0.9997...</td>\n",
       "      <td>u_482520/s_25018731</td>\n",
       "    </tr>\n",
       "    <tr>\n",
       "      <th>0</th>\n",
       "      <td>u_482520</td>\n",
       "      <td>s_25018731</td>\n",
       "      <td>v_1223061</td>\n",
       "      <td>4.0</td>\n",
       "      <td>2023-11-19 12:05:03.473</td>\n",
       "      <td>[-0.6776678, -0.017538857, 0.07692308, -0.9997...</td>\n",
       "      <td>u_482520/s_25018731</td>\n",
       "    </tr>\n",
       "    <tr>\n",
       "      <th>1</th>\n",
       "      <td>u_582132</td>\n",
       "      <td>s_481216</td>\n",
       "      <td>v_470400</td>\n",
       "      <td>1.0</td>\n",
       "      <td>2023-11-21 15:39:47.981</td>\n",
       "      <td>[0.6852401, -0.49921575, -0.21153846, -0.50955...</td>\n",
       "      <td>u_582132/s_481216</td>\n",
       "    </tr>\n",
       "    <tr>\n",
       "      <th>1</th>\n",
       "      <td>u_582132</td>\n",
       "      <td>s_481216</td>\n",
       "      <td>v_470400</td>\n",
       "      <td>4.0</td>\n",
       "      <td>2023-11-21 15:43:57.620</td>\n",
       "      <td>[0.6852401, -0.49921575, -0.21153846, -0.50955...</td>\n",
       "      <td>u_582132/s_481216</td>\n",
       "    </tr>\n",
       "  </tbody>\n",
       "</table>\n",
       "</div>"
      ],
      "text/plain": [
       "    user_id  session_id vacancy_id action_type               action_dt  \\\n",
       "0  u_482520  s_25018731  v_2597196         1.0 2023-11-19 12:03:13.089   \n",
       "0  u_482520  s_25018731  v_1223061         1.0 2023-11-19 12:03:30.396   \n",
       "0  u_482520  s_25018731  v_1223061         4.0 2023-11-19 12:05:03.473   \n",
       "1  u_582132    s_481216   v_470400         1.0 2023-11-21 15:39:47.981   \n",
       "1  u_582132    s_481216   v_470400         4.0 2023-11-21 15:43:57.620   \n",
       "\n",
       "                                           embedding                  key  \n",
       "0  [0.5978287, -0.49921575, -0.21153846, -0.99969...  u_482520/s_25018731  \n",
       "0  [-0.6776678, -0.017538857, 0.07692308, -0.9997...  u_482520/s_25018731  \n",
       "0  [-0.6776678, -0.017538857, 0.07692308, -0.9997...  u_482520/s_25018731  \n",
       "1  [0.6852401, -0.49921575, -0.21153846, -0.50955...    u_582132/s_481216  \n",
       "1  [0.6852401, -0.49921575, -0.21153846, -0.50955...    u_582132/s_481216  "
      ]
     },
     "execution_count": 17,
     "metadata": {},
     "output_type": "execute_result"
    }
   ],
   "source": [
    "test_pairs.loc[:, \"key\"] = test_pairs[\"user_id\"] + \"/\" + test_pairs[\"session_id\"]\n",
    "test_pairs.head()"
   ]
  },
  {
   "cell_type": "code",
   "execution_count": 18,
   "metadata": {},
   "outputs": [],
   "source": [
    "SAMPLE_SIZE = 101  # размер пачки + 1, последний элемент идёт как таргет"
   ]
  },
  {
   "cell_type": "code",
   "execution_count": 19,
   "metadata": {},
   "outputs": [],
   "source": [
    "unique_users = train_pairs[\"user_id\"].unique()[:100_000]\n",
    "\n",
    "\n",
    "def process_train(user: str) -> list[dict[str, pd.DataFrame | str]]:\n",
    "    user_subset = train_pairs[train_pairs[\"user_id\"] == user].sort_values(\"action_dt\").reset_index(drop=True).copy()\n",
    "    user_subset.loc[:, \"time_delta\"] = user_subset[\"action_dt\"].diff().dt.total_seconds().fillna(0).astype(float) / 60.\n",
    "\n",
    "    samples = []\n",
    "    for i in range(0, user_subset.shape[0], SAMPLE_SIZE):\n",
    "        sample = user_subset[i:i+SAMPLE_SIZE]\n",
    "        sample.loc[:, \"embedding\"] *= sample[\"action_type\"]  # попробуем такой трюк, мб значимость фичи будет повыше\n",
    "        sample_array = np.hstack([sample[[\"time_delta\"]].to_numpy().astype(np.float32), np.vstack(sample[\"embedding\"])])[:-1]\n",
    "\n",
    "        # заполняем нулями для одинакового размера\n",
    "        if sample_array.shape[0] < SAMPLE_SIZE - 1:\n",
    "            sample_array = np.vstack([np.zeros((SAMPLE_SIZE - 1 - sample_array.shape[0], sample_array.shape[1]), dtype=np.float32), sample_array])\n",
    "\n",
    "        samples.append({\"data\": sample_array, \"target\": vac2vec[sample.iloc[-1][\"vacancy_id\"]]})\n",
    "\n",
    "    return samples"
   ]
  },
  {
   "cell_type": "code",
   "execution_count": 19,
   "metadata": {},
   "outputs": [
    {
     "name": "stderr",
     "output_type": "stream",
     "text": [
      "100%|██████████| 100000/100000 [00:03<00:00, 27021.43it/s]\n",
      "100%|██████████| 100000/100000 [1:18:03<00:00, 21.35it/s]\n"
     ]
    },
    {
     "data": {
      "text/plain": [
       "131238"
      ]
     },
     "execution_count": 19,
     "metadata": {},
     "output_type": "execute_result"
    }
   ],
   "source": [
    "samples = []\n",
    "\n",
    "with ProcessPoolExecutor() as executor:\n",
    "    futures = []\n",
    "    for user in tqdm(unique_users):\n",
    "        futures.append(executor.submit(process_train, user))\n",
    "\n",
    "    for future in tqdm(as_completed(futures), total=len(unique_users)):\n",
    "        samples += future.result()\n",
    "\n",
    "len(samples)"
   ]
  },
  {
   "cell_type": "code",
   "execution_count": 21,
   "metadata": {},
   "outputs": [],
   "source": [
    "import pickle\n",
    "\n",
    "with open(\"/HDD/train_users_sample.pickle\", \"wb\") as f:\n",
    "    pickle.dump(samples, f)"
   ]
  },
  {
   "cell_type": "code",
   "execution_count": 23,
   "metadata": {},
   "outputs": [
    {
     "data": {
      "text/plain": [
       "Dataset({\n",
       "    features: ['data', 'target'],\n",
       "    num_rows: 25000\n",
       "})"
      ]
     },
     "execution_count": 23,
     "metadata": {},
     "output_type": "execute_result"
    }
   ],
   "source": [
    "train_user_dataset = datasets.Dataset.from_list(samples[:25000])\n",
    "train_user_dataset"
   ]
  },
  {
   "cell_type": "code",
   "execution_count": 24,
   "metadata": {},
   "outputs": [],
   "source": [
    "train_user_dataset.set_format(\"torch\")"
   ]
  },
  {
   "cell_type": "code",
   "execution_count": 25,
   "metadata": {},
   "outputs": [
    {
     "data": {
      "text/plain": [
       "torch.Size([10, 100, 798])"
      ]
     },
     "execution_count": 25,
     "metadata": {},
     "output_type": "execute_result"
    }
   ],
   "source": [
    "train_user_dataset[:10][\"data\"].shape"
   ]
  },
  {
   "cell_type": "code",
   "execution_count": 26,
   "metadata": {},
   "outputs": [
    {
     "data": {
      "text/plain": [
       "(10, 797)"
      ]
     },
     "execution_count": 26,
     "metadata": {},
     "output_type": "execute_result"
    }
   ],
   "source": [
    "vac_dataset[:10][\"embedding\"].shape"
   ]
  },
  {
   "cell_type": "code",
   "execution_count": 27,
   "metadata": {},
   "outputs": [
    {
     "name": "stderr",
     "output_type": "stream",
     "text": [
      "Saving the dataset (17/17 shards): 100%|██████████| 25000/25000 [00:03<00:00, 6388.05 examples/s]\n"
     ]
    }
   ],
   "source": [
    "train_user_dataset.save_to_disk(\"/HDD/train_users_dataset\")"
   ]
  },
  {
   "cell_type": "code",
   "execution_count": 20,
   "metadata": {},
   "outputs": [],
   "source": [
    "unique_keys = test_pairs[\"key\"].unique()\n",
    "\n",
    "\n",
    "def process_test(key: str) -> list[dict[str, pd.DataFrame | str]]:\n",
    "    user_subset = test_pairs[test_pairs[\"key\"] == key].sort_values(\"action_dt\").reset_index(drop=True).copy()\n",
    "    user_subset.loc[:, \"time_delta\"] = user_subset[\"action_dt\"].diff().dt.total_seconds().fillna(0).astype(float) / 60.\n",
    "\n",
    "    samples = []\n",
    "    for i in range(0, user_subset.shape[0], SAMPLE_SIZE):\n",
    "        sample = user_subset[i:i+SAMPLE_SIZE]\n",
    "        sample.loc[:, \"embedding\"] *= sample[\"action_type\"]  # попробуем такой трюк, мб значимость фичи будет повыше\n",
    "        sample_array = np.hstack([sample[[\"time_delta\"]].to_numpy().astype(np.float32), np.vstack(sample[\"embedding\"])])[:-1]\n",
    "\n",
    "        # заполняем нулями для одинакового размера\n",
    "        if sample_array.shape[0] < SAMPLE_SIZE - 1:\n",
    "            sample_array = np.vstack([np.zeros((SAMPLE_SIZE - 1 - sample_array.shape[0], sample_array.shape[1]), dtype=np.float32), sample_array])\n",
    "\n",
    "        samples.append({\"data\": sample_array, \"target\": vac2vec[sample.iloc[-1][\"vacancy_id\"]], \"key\": key})\n",
    "\n",
    "    return samples"
   ]
  },
  {
   "cell_type": "code",
   "execution_count": 15,
   "metadata": {},
   "outputs": [
    {
     "name": "stderr",
     "output_type": "stream",
     "text": [
      "100%|██████████| 83189/83189 [00:06<00:00, 13708.87it/s]\n",
      "100%|██████████| 83189/83189 [02:05<00:00, 660.68it/s]\n"
     ]
    },
    {
     "data": {
      "text/plain": [
       "83189"
      ]
     },
     "execution_count": 15,
     "metadata": {},
     "output_type": "execute_result"
    }
   ],
   "source": [
    "samples = []\n",
    "\n",
    "with ProcessPoolExecutor() as executor:\n",
    "    futures = []\n",
    "    for key in tqdm(unique_keys):\n",
    "        futures.append(executor.submit(process_test, key))\n",
    "\n",
    "    for future in tqdm(as_completed(futures), total=len(unique_keys)):\n",
    "        samples += future.result()\n",
    "\n",
    "len(samples)"
   ]
  },
  {
   "cell_type": "code",
   "execution_count": null,
   "metadata": {},
   "outputs": [],
   "source": [
    "# import pickle\n",
    "\n",
    "# with open(\"/HDD/test_users_samples.pickle\", \"wb\") as f:\n",
    "#     pickle.dump(samples, f)"
   ]
  },
  {
   "cell_type": "code",
   "execution_count": null,
   "metadata": {},
   "outputs": [
    {
     "name": "stderr",
     "output_type": "stream",
     "text": [
      "/home/v_larkin/.pyenv/versions/3.12.2/envs/vvv/lib/python3.12/site-packages/tqdm/auto.py:21: TqdmWarning: IProgress not found. Please update jupyter and ipywidgets. See https://ipywidgets.readthedocs.io/en/stable/user_install.html\n",
      "  from .autonotebook import tqdm as notebook_tqdm\n"
     ]
    },
    {
     "data": {
      "text/plain": [
       "84543"
      ]
     },
     "execution_count": 1,
     "metadata": {},
     "output_type": "execute_result"
    }
   ],
   "source": [
    "# import pickle\n",
    "# import datasets\n",
    "\n",
    "# with open(\"/HDD/test_users_samples.pickle\", \"rb\") as f:\n",
    "#     samples = pickle.load(f)\n",
    "\n",
    "# len(samples)"
   ]
  },
  {
   "cell_type": "code",
   "execution_count": 18,
   "metadata": {},
   "outputs": [
    {
     "data": {
      "text/plain": [
       "Dataset({\n",
       "    features: ['data', 'target', 'key'],\n",
       "    num_rows: 26000\n",
       "})"
      ]
     },
     "execution_count": 18,
     "metadata": {},
     "output_type": "execute_result"
    }
   ],
   "source": [
    "test_user_dataset = datasets.Dataset.from_list(samples[:26000])\n",
    "test_user_dataset"
   ]
  },
  {
   "cell_type": "code",
   "execution_count": 19,
   "metadata": {},
   "outputs": [],
   "source": [
    "test_user_dataset.set_format(\"torch\")"
   ]
  },
  {
   "cell_type": "code",
   "execution_count": 20,
   "metadata": {},
   "outputs": [
    {
     "data": {
      "text/plain": [
       "torch.Size([10, 100, 798])"
      ]
     },
     "execution_count": 20,
     "metadata": {},
     "output_type": "execute_result"
    }
   ],
   "source": [
    "test_user_dataset[:10][\"data\"].shape"
   ]
  },
  {
   "cell_type": "code",
   "execution_count": 21,
   "metadata": {},
   "outputs": [
    {
     "data": {
      "text/plain": [
       "(10, 797)"
      ]
     },
     "execution_count": 21,
     "metadata": {},
     "output_type": "execute_result"
    }
   ],
   "source": [
    "vac_dataset[:10][\"embedding\"].shape"
   ]
  },
  {
   "cell_type": "code",
   "execution_count": 22,
   "metadata": {},
   "outputs": [
    {
     "name": "stderr",
     "output_type": "stream",
     "text": [
      "Saving the dataset (17/17 shards): 100%|██████████| 26000/26000 [00:02<00:00, 9036.62 examples/s]\n"
     ]
    }
   ],
   "source": [
    "test_user_dataset.save_to_disk(\"test_users_dataset\")"
   ]
  }
 ],
 "metadata": {
  "kernelspec": {
   "display_name": "vvv",
   "language": "python",
   "name": "python3"
  },
  "language_info": {
   "codemirror_mode": {
    "name": "ipython",
    "version": 3
   },
   "file_extension": ".py",
   "mimetype": "text/x-python",
   "name": "python",
   "nbconvert_exporter": "python",
   "pygments_lexer": "ipython3",
   "version": "3.12.2"
  }
 },
 "nbformat": 4,
 "nbformat_minor": 2
}
